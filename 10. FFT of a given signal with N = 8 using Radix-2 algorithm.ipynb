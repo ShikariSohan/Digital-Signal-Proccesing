{
 "cells": [
  {
   "cell_type": "markdown",
   "id": "247f1d5a",
   "metadata": {},
   "source": [
    "# FFT of a given signal with N = 8 using Radix-2 algorithm.  \n",
    "## 10. Compute the FFT of a given signal with N = 8 using Radix-2 algorithm  \n",
    "### Registration no : 2018331068"
   ]
  },
  {
   "cell_type": "code",
   "execution_count": 3,
   "id": "a917a611",
   "metadata": {},
   "outputs": [
    {
     "name": "stdout",
     "output_type": "stream",
     "text": [
      "N = 8\n",
      "FFT of the given signal =\n",
      " [28.+0.j        -4.+9.656855j  -4.+4.j        -4.+1.6568543j\n",
      " -4.+0.j        -4.-1.6568543j -4.-4.j        -4.-9.656855j ]\n"
     ]
    }
   ],
   "source": [
    "import numpy as np\n",
    "def Radix_fft(x):\n",
    "    N = len(x)\n",
    "    if N<=1:\n",
    "        return x\n",
    "    e = Rad_fft(x[0::2])\n",
    "    o = Rad_fft(x[1::2])\n",
    "    fft_x = np.zeros(N).astype(np.complex64)\n",
    "    for i in range(N//2):\n",
    "        fft_x[i] = e[i] + np.exp((-2j * np.pi * i) / N) * o[i]\n",
    "        fft_x[i + N // 2] = e[i] - np.exp((-2j * np.pi * i) / N) * o[i]\n",
    "\n",
    "    return fft_x\n",
    "\n",
    "x = [0,1,2,3,4,5,6,7]\n",
    "print(\"N =\", len(x))\n",
    "fft = Radix_fft(x)\n",
    "print(\"FFT of the given signal =\\n\", fft)"
   ]
  },
  {
   "cell_type": "code",
   "execution_count": null,
   "id": "b7b89913",
   "metadata": {},
   "outputs": [],
   "source": []
  }
 ],
 "metadata": {
  "kernelspec": {
   "display_name": "Python 3 (ipykernel)",
   "language": "python",
   "name": "python3"
  },
  "language_info": {
   "codemirror_mode": {
    "name": "ipython",
    "version": 3
   },
   "file_extension": ".py",
   "mimetype": "text/x-python",
   "name": "python",
   "nbconvert_exporter": "python",
   "pygments_lexer": "ipython3",
   "version": "3.9.12"
  }
 },
 "nbformat": 4,
 "nbformat_minor": 5
}
