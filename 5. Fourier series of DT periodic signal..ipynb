{
 "cells": [
  {
   "cell_type": "markdown",
   "id": "c3e4330b",
   "metadata": {},
   "source": [
    "# Fourier series of DT periodic signal.\n",
    "## 5. Determine and plot the Fourier series of DT periodic signal. [Eqn. 4.2.7 and 4.2.8]\n",
    "### Reg No : 2018331068"
   ]
  },
  {
   "cell_type": "code",
   "execution_count": null,
   "id": "137a7b53",
   "metadata": {},
   "outputs": [],
   "source": []
  }
 ],
 "metadata": {
  "kernelspec": {
   "display_name": "Python 3 (ipykernel)",
   "language": "python",
   "name": "python3"
  },
  "language_info": {
   "codemirror_mode": {
    "name": "ipython",
    "version": 3
   },
   "file_extension": ".py",
   "mimetype": "text/x-python",
   "name": "python",
   "nbconvert_exporter": "python",
   "pygments_lexer": "ipython3",
   "version": "3.9.12"
  }
 },
 "nbformat": 4,
 "nbformat_minor": 5
}
