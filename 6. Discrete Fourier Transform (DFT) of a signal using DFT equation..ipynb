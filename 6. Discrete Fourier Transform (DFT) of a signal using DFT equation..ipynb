{
 "cells": [
  {
   "cell_type": "markdown",
   "id": "312c3edc",
   "metadata": {},
   "source": [
    "# Discrete Fourier Transform (DFT) of a signal using DFT equation.\n",
    "## 6. Compute Discrete Fourier Transform (DFT) of a signal using DFT equation.  \n",
    "### Registration No : 2018331068"
   ]
  },
  {
   "cell_type": "code",
   "execution_count": null,
   "id": "f443d54e",
   "metadata": {},
   "outputs": [],
   "source": [
    "# import necessary library\n",
    "import matplotlib.pyplot as plt\n",
    "import numpy as np\n",
    "import math"
   ]
  },
  {
   "cell_type": "markdown",
   "id": "a140267b",
   "metadata": {},
   "source": [
    "## DFT\n",
    "**As the name implies, the Discrete Fourier Transform (DFT) is purely discrete: discrete-time data sets are converted into a discrete-frequency representation**"
   ]
  },
  {
   "cell_type": "code",
   "execution_count": null,
   "id": "4b4beb11",
   "metadata": {},
   "outputs": [],
   "source": [
    "N=10\n",
    "x=[0,1,2,3]\n",
    "xw=[]\n",
    "j=cm.sqrt(-1)\n",
    "n=len(x)\n",
    "w=np.linspace(0,2*np.pi,N)\n",
    "for i in range(0,N):\n",
    "    sum=0\n",
    "    w_temp=w[i]\n",
    "    for k in range(0,n):\n",
    "        sum=(sum+(x[k]*np.exp((-j)*w_temp*k)))\n",
    "    xw.append(sum)\n",
    "  #xw=sum\n",
    "plt.subplot(121)\n",
    "plt.plot(w,np.abs(xw))\n",
    "plt.title(\"magnitude of X[w]\")\n",
    "plt.xlabel(\"frequency\")\n",
    "plt.ylabel(\"|x[w]|\")\n",
    "plt.subplot(1,2,2) \n",
    "plt.plot(w,np.angle(xw))\n",
    "plt.title(\"phase of X[w]\")\n",
    "plt.xlabel(\"frequency\")\n",
    "plt.ylabel(\"/_x[w]\")\n",
    "plt.show()"
   ]
  },
  {
   "cell_type": "code",
   "execution_count": null,
   "id": "bcaa4104",
   "metadata": {},
   "outputs": [],
   "source": []
  },
  {
   "cell_type": "code",
   "execution_count": null,
   "id": "5a8b9e3f",
   "metadata": {},
   "outputs": [],
   "source": []
  }
 ],
 "metadata": {
  "kernelspec": {
   "display_name": "Python 3 (ipykernel)",
   "language": "python",
   "name": "python3"
  },
  "language_info": {
   "codemirror_mode": {
    "name": "ipython",
    "version": 3
   },
   "file_extension": ".py",
   "mimetype": "text/x-python",
   "name": "python",
   "nbconvert_exporter": "python",
   "pygments_lexer": "ipython3",
   "version": "3.9.12"
  }
 },
 "nbformat": 4,
 "nbformat_minor": 5
}
