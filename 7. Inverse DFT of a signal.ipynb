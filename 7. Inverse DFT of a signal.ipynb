{
 "cells": [
  {
   "cell_type": "markdown",
   "id": "2f6874dc",
   "metadata": {},
   "source": [
    "### Inverse DFT of a signal\n",
    "## 7 . Compute inverse DFT of the signal obtained in (6). Cross check your results with Matlab/Python library functions.  \n",
    "### Registration no : 2018331068"
   ]
  },
  {
   "cell_type": "markdown",
   "id": "c0420d97",
   "metadata": {},
   "source": [
    "## IDFT  \n",
    "**The discrete Fourier transform is an invertible, linear transformation. with denoting the set of complex numbers. Its inverse is known as Inverse Discrete Fourier Transform (IDFT). In other words, for any , an N-dimensional complex vector has a DFT and an IDFT which are in turn. -dimensional complex vectors.**"
   ]
  },
  {
   "cell_type": "code",
   "execution_count": 1,
   "id": "0fc7f20f",
   "metadata": {},
   "outputs": [],
   "source": [
    "import matplotlib.pyplot as plt\n",
    "import numpy as np\n",
    "import cmath"
   ]
  },
  {
   "cell_type": "code",
   "execution_count": 19,
   "id": "5b4510e7",
   "metadata": {},
   "outputs": [],
   "source": [
    "def compute_DFT(x_n):\n",
    "\n",
    "    X_k=np.zeros(len(x_n),dtype=np.complex)\n",
    "    for k in range(0,len(x_n),1):\n",
    "        temp=0+0j\n",
    "        for n in range(len(x_n)):\n",
    "            temp+=(x_n[n]*np.exp((-1)*(1j*2*np.pi*k*n)/len(x_n)))\n",
    "    \n",
    "    # print(temp)\n",
    "        X_k[k]=temp\n",
    "    return X_k"
   ]
  },
  {
   "cell_type": "code",
   "execution_count": 21,
   "id": "084973d2",
   "metadata": {},
   "outputs": [
    {
     "name": "stdout",
     "output_type": "stream",
     "text": [
      "[ 6.+0.00000000e+00j -2.+2.00000000e+00j -2.-7.34788079e-16j\n",
      " -2.-2.00000000e+00j]\n"
     ]
    },
    {
     "name": "stderr",
     "output_type": "stream",
     "text": [
      "C:\\Users\\Sohan\\AppData\\Local\\Temp\\ipykernel_9792\\2668733166.py:3: DeprecationWarning: `np.complex` is a deprecated alias for the builtin `complex`. To silence this warning, use `complex` by itself. Doing this will not modify any behavior and is safe. If you specifically wanted the numpy scalar type, use `np.complex128` here.\n",
      "Deprecated in NumPy 1.20; for more details and guidance: https://numpy.org/devdocs/release/1.20.0-notes.html#deprecations\n",
      "  X_k=np.zeros(len(x_n),dtype=np.complex)\n"
     ]
    }
   ],
   "source": [
    "x_n=np.array([0,1,2,3]) #input signal\n",
    "# print(type(x_n))\n",
    "X_k=compute_DFT(x_n)\n",
    "print(X_k)"
   ]
  },
  {
   "cell_type": "code",
   "execution_count": 23,
   "id": "b555e111",
   "metadata": {},
   "outputs": [
    {
     "name": "stdout",
     "output_type": "stream",
     "text": [
      "[2.77555756e-16 1.00000000e+00 2.00000000e+00 3.00000000e+00]\n"
     ]
    },
    {
     "name": "stderr",
     "output_type": "stream",
     "text": [
      "C:\\Users\\Sohan\\AppData\\Local\\Temp\\ipykernel_9792\\2369604935.py:9: ComplexWarning: Casting complex values to real discards the imaginary part\n",
      "  X_n[n]=temp/len(X_k)\n"
     ]
    },
    {
     "data": {
      "image/png": "[encoded data removed]",
      "text/plain": [
       "<Figure size 2160x1080 with 1 Axes>"
      ]
     },
     "metadata": {
      "needs_background": "light"
     },
     "output_type": "display_data"
    },
    {
     "name": "stdout",
     "output_type": "stream",
     "text": [
      "IDFT by equation : [2.77555756e-16 1.00000000e+00 2.00000000e+00 3.00000000e+00]\n"
     ]
    }
   ],
   "source": [
    "def compute_IDFT(X_k): \n",
    "    X_n=np.zeros(len(X_k))\n",
    "\n",
    "    for n in range(len(X_k)):\n",
    "        temp=0+0j\n",
    "        for k in range(len(X_k)):\n",
    "            temp+=(X_k[k]*np.exp((2*np.pi*1j*n*k/len(X_k))))\n",
    "    # print(temp)\n",
    "            X_n[n]=temp/len(X_k)\n",
    "    return X_n\n",
    "\n",
    "\n",
    "X_n=compute_IDFT(X_k)\n",
    "print(X_n)\n",
    "plt.figure(figsize=(30,15))\n",
    "plt.subplot(223)\n",
    "plt.title(\"x(n)=IDFT X(k)\")\n",
    "plt.xlabel(\"Sample\")\n",
    "plt.ylabel(\"Amplitude\")\n",
    "plt.xticks(X_n)\n",
    "plt.stem(X_n)\n",
    "plt.show()\n",
    "print(\"IDFT by equation :\",X_n)"
   ]
  },
  {
   "cell_type": "markdown",
   "id": "add3b9e7",
   "metadata": {},
   "source": [
    "## IDFT using python library function"
   ]
  },
  {
   "cell_type": "code",
   "execution_count": 24,
   "id": "30352686",
   "metadata": {},
   "outputs": [
    {
     "name": "stderr",
     "output_type": "stream",
     "text": [
      "C:\\Users\\Sohan\\anaconda3\\lib\\site-packages\\numpy\\ma\\core.py:3379: ComplexWarning: Casting complex values to real discards the imaginary part\n",
      "  _data[indx] = dval\n",
      "C:\\Users\\Sohan\\anaconda3\\lib\\site-packages\\matplotlib\\cbook\\__init__.py:1298: ComplexWarning: Casting complex values to real discards the imaginary part\n",
      "  return np.asarray(x, float)\n",
      "C:\\Users\\Sohan\\anaconda3\\lib\\site-packages\\matplotlib\\cbook\\__init__.py:1298: ComplexWarning: Casting complex values to real discards the imaginary part\n",
      "  return np.asarray(x, float)\n"
     ]
    },
    {
     "data": {
      "image/png": "[encoded data removed]",
      "text/plain": [
       "<Figure size 2160x1080 with 1 Axes>"
      ]
     },
     "metadata": {
      "needs_background": "light"
     },
     "output_type": "display_data"
    },
    {
     "name": "stdout",
     "output_type": "stream",
     "text": [
      "Idft by python library : [2.22044605e-16-4.61252776e-16j 1.00000000e+00-3.15903341e-16j\n",
      " 2.00000000e+00+9.38587363e-17j 3.00000000e+00+6.83297381e-16j]\n"
     ]
    }
   ],
   "source": [
    "idft_py_library=np.zeros(len(X_k))\n",
    "idft_py_library=np.fft.ifft(X_k)\n",
    "\n",
    "\n",
    "plt.figure(figsize=(30,15))\n",
    "plt.subplot(223)\n",
    "plt.title(\"x(n)=IDFT X(k)\")\n",
    "plt.xlabel(\"Sample\")\n",
    "plt.ylabel(\"Amplitude\")\n",
    "plt.stem(idft_py_library)\n",
    "plt.show()\n",
    "\n",
    "print(\"Idft by python library :\",idft_py_library)"
   ]
  },
  {
   "cell_type": "markdown",
   "id": "4d1317cb",
   "metadata": {},
   "source": [
    "**Both Gives same result**"
   ]
  },
  {
   "cell_type": "code",
   "execution_count": null,
   "id": "effd7bdb",
   "metadata": {},
   "outputs": [],
   "source": []
  }
 ],
 "metadata": {
  "kernelspec": {
   "display_name": "Python 3 (ipykernel)",
   "language": "python",
   "name": "python3"
  },
  "language_info": {
   "codemirror_mode": {
    "name": "ipython",
    "version": 3
   },
   "file_extension": ".py",
   "mimetype": "text/x-python",
   "name": "python",
   "nbconvert_exporter": "python",
   "pygments_lexer": "ipython3",
   "version": "3.9.12"
  }
 },
 "nbformat": 4,
 "nbformat_minor": 5
}
