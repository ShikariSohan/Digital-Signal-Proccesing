{
 "cells": [
  {
   "cell_type": "markdown",
   "id": "c1ca8ea9",
   "metadata": {},
   "source": [
    "# FIR filter with impulse response h(n) to the input sequence x(n)  \n",
    "## 8. By means of the DFT and IDFT, determine the response of the FIR filter with impulse response h(n) to the input sequence x(n). [Hint: Ex. 7.3.1]  \n",
    "### Registration no : 2018331068"
   ]
  },
  {
   "cell_type": "code",
   "execution_count": 1,
   "id": "8aada14b",
   "metadata": {},
   "outputs": [],
   "source": [
    "import matplotlib.pyplot as plt\n",
    "import numpy as np"
   ]
  },
  {
   "cell_type": "code",
   "execution_count": 4,
   "id": "996d0a31",
   "metadata": {},
   "outputs": [
    {
     "name": "stdout",
     "output_type": "stream",
     "text": [
      "[ 1.  6. 15. 22. 16.  6.]\n"
     ]
    }
   ],
   "source": [
    "#Implementing DFT function\n",
    "def dft(x,N):\n",
    "    x = np.concatenate([x,[0]*(N - len(x))])\n",
    "    n = np.arange(N)\n",
    "    k = n.reshape((N, 1))\n",
    "    temp = np.exp((-2j * np.pi * n * k) / N)\n",
    "    dft_x = np.dot(temp, x)\n",
    "    return dft_x\n",
    "\n",
    "# Implementing idft function\n",
    "def idft(X, N):\n",
    "    k = np.arange(N)\n",
    "    n = k.reshape((N, 1))\n",
    "    temp = np.exp((2j * np.pi * k * n) / N)\n",
    "    idft_x = (np.dot(temp, X)) / N\n",
    "    idft_x = np.real(idft_x)\n",
    "    return idft_x\n",
    "\n",
    "\n",
    "def fir(x, h):\n",
    "    N = len(x) + len(h) - 1\n",
    "    dft_x = dft(x, N)\n",
    "    dft_h = dft(h, N)\n",
    "    mul = dft_x * dft_h\n",
    "\n",
    "    inv = idft(mul, N)\n",
    "    return np.round(inv)\n",
    "\n",
    "x = np.array([1,4,4,2])\n",
    "h = np.array([1,2,3])\n",
    "FIR = fir(x,h)\n",
    "print(FIR)"
   ]
  },
  {
   "cell_type": "code",
   "execution_count": null,
   "id": "2b19a925",
   "metadata": {},
   "outputs": [],
   "source": []
  }
 ],
 "metadata": {
  "kernelspec": {
   "display_name": "Python 3 (ipykernel)",
   "language": "python",
   "name": "python3"
  },
  "language_info": {
   "codemirror_mode": {
    "name": "ipython",
    "version": 3
   },
   "file_extension": ".py",
   "mimetype": "text/x-python",
   "name": "python",
   "nbconvert_exporter": "python",
   "pygments_lexer": "ipython3",
   "version": "3.9.12"
  }
 },
 "nbformat": 4,
 "nbformat_minor": 5
}
