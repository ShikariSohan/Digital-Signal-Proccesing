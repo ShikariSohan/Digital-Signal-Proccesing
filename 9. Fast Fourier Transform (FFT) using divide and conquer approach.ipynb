{
 "cells": [
  {
   "cell_type": "markdown",
   "id": "44f30977",
   "metadata": {},
   "source": [
    "# Fast Fourier Transform (FFT) using divide and conquer approach\n",
    "## Compute the Fast Fourier Transform (FFT) using divide and conquer approach (e.g N=2 x N/2).  \n",
    "### Registration no : 2018331068"
   ]
  },
  {
   "cell_type": "code",
   "execution_count": 1,
   "id": "56d3383a",
   "metadata": {},
   "outputs": [
    {
     "name": "stdout",
     "output_type": "stream",
     "text": [
      "FFT of the signal =  [[ 6.+0.j -2.+2.j]\n",
      " [-2.-0.j -2.-2.j]]\n"
     ]
    }
   ],
   "source": [
    "import numpy as np\n",
    "\n",
    "#Implementing DFT function\n",
    "def dft(x):\n",
    "    N = len(x)\n",
    "    x = np.concatenate([x,[0]*(N - len(x))])\n",
    "    n = np.arange(N)\n",
    "    k = n.reshape((N, 1))\n",
    "    temp = np.exp((-2j * np.pi * n * k) / N)\n",
    "    dft_x = np.dot(temp, x)\n",
    "    return dft_x\n",
    "\n",
    "def fact(x):\n",
    "    res = []\n",
    "    for i in range(1, x+1):\n",
    "        if x % i == 0:\n",
    "            res.append(i)\n",
    "    fact = res[len(res)//2]\n",
    "    ans = x//fact\n",
    "    return fact, ans\n",
    "\n",
    "def dac_dft(x):\n",
    "    N = len(x)\n",
    "    L, M = fact(N)\n",
    "    X = x.reshape((M, L)).T\n",
    "    dft_x = np.apply_along_axis(dft, axis=1, arr=X)\n",
    "    k = np.arange(M)\n",
    "    n = (np.arange(L)).reshape((L, 1))\n",
    "    temp = np.exp((-2j * np.pi * k * n) / N)\n",
    "    y = dft_x * temp\n",
    "    dft_ans = np.zeros(y.shape, dtype=np.complex64)\n",
    "    for i in range(M):\n",
    "        dft_ans[:, i] = dft(y[:, i])\n",
    "    dft_ans = np.round(dft_ans)\n",
    "    return dft_ans\n",
    "\n",
    "x = np.array([0,1,2,3])\n",
    "fft = dac_dft(x)\n",
    "print(\"FFT of the signal = \", fft)"
   ]
  },
  {
   "cell_type": "code",
   "execution_count": null,
   "id": "edb5f40a",
   "metadata": {},
   "outputs": [],
   "source": []
  }
 ],
 "metadata": {
  "kernelspec": {
   "display_name": "Python 3 (ipykernel)",
   "language": "python",
   "name": "python3"
  },
  "language_info": {
   "codemirror_mode": {
    "name": "ipython",
    "version": 3
   },
   "file_extension": ".py",
   "mimetype": "text/x-python",
   "name": "python",
   "nbconvert_exporter": "python",
   "pygments_lexer": "ipython3",
   "version": "3.9.12"
  }
 },
 "nbformat": 4,
 "nbformat_minor": 5
}
